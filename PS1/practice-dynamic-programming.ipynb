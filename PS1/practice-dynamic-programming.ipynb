{
 "cells": [
  {
   "cell_type": "code",
   "execution_count": 9,
   "id": "04b0b9b0",
   "metadata": {},
   "outputs": [],
   "source": [
    "# fibonacci with recursion\n",
    "def fib(n):\n",
    "    if n == 1 or n == 2:\n",
    "        return 1\n",
    "    else:\n",
    "        return fib(n-1) + fib(n-2)"
   ]
  },
  {
   "cell_type": "code",
   "execution_count": 51,
   "id": "af7d4c65",
   "metadata": {},
   "outputs": [],
   "source": [
    "# fibonacci with dynamic programming\n",
    "def fib2(n, memo):\n",
    "    if memo[n] != None:\n",
    "        return memo[n]\n",
    "    if n == 1 or n == 2:\n",
    "        result = 1\n",
    "    else:\n",
    "        result = fib2(n-1, memo) + fib2(n-2, memo)\n",
    "        memo[n] = result\n",
    "    return result"
   ]
  },
  {
   "cell_type": "code",
   "execution_count": 52,
   "id": "cd7778a8",
   "metadata": {},
   "outputs": [],
   "source": [
    "def fib_memo(n):\n",
    "    memo = [None] * (n + 1)\n",
    "    return fib2(n, memo)"
   ]
  },
  {
   "cell_type": "code",
   "execution_count": 56,
   "id": "9c983c97",
   "metadata": {},
   "outputs": [
    {
     "data": {
      "text/plain": [
       "55"
      ]
     },
     "execution_count": 56,
     "metadata": {},
     "output_type": "execute_result"
    }
   ],
   "source": [
    "fib_memo(10)"
   ]
  },
  {
   "cell_type": "code",
   "execution_count": null,
   "id": "a2063da1",
   "metadata": {},
   "outputs": [],
   "source": [
    "# sequential tuples using dynamic programming\n"
   ]
  }
 ],
 "metadata": {
  "kernelspec": {
   "display_name": "Python 3 (ipykernel)",
   "language": "python",
   "name": "python3"
  },
  "language_info": {
   "codemirror_mode": {
    "name": "ipython",
    "version": 3
   },
   "file_extension": ".py",
   "mimetype": "text/x-python",
   "name": "python",
   "nbconvert_exporter": "python",
   "pygments_lexer": "ipython3",
   "version": "3.9.7"
  }
 },
 "nbformat": 4,
 "nbformat_minor": 5
}
