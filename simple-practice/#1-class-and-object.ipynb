{
 "cells": [
  {
   "cell_type": "code",
   "execution_count": 1,
   "id": "77a65e00",
   "metadata": {},
   "outputs": [],
   "source": [
    "# defining a class called robot\n",
    "class Robot:\n",
    "    def __init__(self, name, color, weight):\n",
    "        self.name = name\n",
    "        self.color = color\n",
    "        self.weight = weight\n",
    "        \n",
    "    def self_intro(self):\n",
    "        print(\"Hi my name is \" + self.name, end = \".\")\n",
    "        \n",
    "    def get_color(self):\n",
    "        return self.color"
   ]
  },
  {
   "cell_type": "code",
   "execution_count": 3,
   "id": "11578e42",
   "metadata": {},
   "outputs": [],
   "source": [
    "# creating robot objects called r1 and r2\n",
    "# r1 = Robot()\n",
    "# r1.name = \"Tom\"\n",
    "# r1.color = \"Red\"\n",
    "# r1.weight = 30\n",
    "\n",
    "# r2 = Robot()\n",
    "# r2.name = \"Jerry\"\n",
    "# r2.color = \"Blue\"\n",
    "# r2.weight = \"40\"\n",
    "\n",
    "# compressing above steps\n",
    "r1 = Robot(\"Tom\", \"Red\", 30)\n",
    "r2 = Robot(\"Jerry\", \"Blue\", 40)"
   ]
  },
  {
   "cell_type": "code",
   "execution_count": 5,
   "id": "09f3ca99",
   "metadata": {},
   "outputs": [
    {
     "name": "stdout",
     "output_type": "stream",
     "text": [
      "Hi my name is Tom."
     ]
    }
   ],
   "source": [
    "r1.self_intro()"
   ]
  },
  {
   "cell_type": "code",
   "execution_count": 16,
   "id": "31545150",
   "metadata": {},
   "outputs": [],
   "source": [
    "class Person:\n",
    "    def __init__(self, name, personality, isSitting):\n",
    "        self.name = name\n",
    "        self.personality = personality\n",
    "        self.isSitting = isSitting\n",
    "        \n",
    "    def sit_down(self):\n",
    "        self.isSitting = True\n",
    "        \n",
    "    def stand_up(self):\n",
    "        self.isSitting = False"
   ]
  },
  {
   "cell_type": "code",
   "execution_count": 17,
   "id": "bfa22f41",
   "metadata": {},
   "outputs": [],
   "source": [
    "p1 = Person(\"Alice\", \"aggressive\", False)\n",
    "p2 = Person(\"Becky\", \"talkative\", True)"
   ]
  },
  {
   "cell_type": "code",
   "execution_count": 20,
   "id": "02bb49c9",
   "metadata": {},
   "outputs": [
    {
     "data": {
      "text/plain": [
       "False"
      ]
     },
     "execution_count": 20,
     "metadata": {},
     "output_type": "execute_result"
    }
   ],
   "source": [
    "p1.isSitting"
   ]
  },
  {
   "cell_type": "code",
   "execution_count": 21,
   "id": "12dea5e8",
   "metadata": {},
   "outputs": [],
   "source": [
    "# p1 owns r2\n",
    "p1.robot_owned = r2\n",
    "p2.robot_owned = r1"
   ]
  },
  {
   "cell_type": "code",
   "execution_count": 23,
   "id": "a552ccfd",
   "metadata": {},
   "outputs": [
    {
     "name": "stdout",
     "output_type": "stream",
     "text": [
      "Hi my name is Jerry."
     ]
    }
   ],
   "source": [
    "p1.robot_owned.self_intro()"
   ]
  },
  {
   "cell_type": "code",
   "execution_count": null,
   "id": "9936ad05",
   "metadata": {},
   "outputs": [],
   "source": []
  }
 ],
 "metadata": {
  "kernelspec": {
   "display_name": "Python 3 (ipykernel)",
   "language": "python",
   "name": "python3"
  },
  "language_info": {
   "codemirror_mode": {
    "name": "ipython",
    "version": 3
   },
   "file_extension": ".py",
   "mimetype": "text/x-python",
   "name": "python",
   "nbconvert_exporter": "python",
   "pygments_lexer": "ipython3",
   "version": "3.9.7"
  }
 },
 "nbformat": 4,
 "nbformat_minor": 5
}
